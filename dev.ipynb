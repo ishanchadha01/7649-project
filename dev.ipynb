{
 "cells": [
  {
   "cell_type": "code",
   "execution_count": 1,
   "metadata": {},
   "outputs": [],
   "source": [
    "from farrt.plot import plot_world, plot_polygons, plot_polygon\n",
    "from farrt.world import World"
   ]
  },
  {
   "cell_type": "code",
   "execution_count": 2,
   "metadata": {},
   "outputs": [],
   "source": [
    "from abc import ABC, abstractmethod\n",
    "from typing import List, TypeVar\n",
    "import random\n",
    "# import numpy as np\n",
    "from shapely.geometry import Point, MultiPolygon, Polygon, CAP_STYLE, JOIN_STYLE\n",
    "from shapely.geometry.base import BaseGeometry"
   ]
  },
  {
   "cell_type": "code",
   "execution_count": 3,
   "metadata": {},
   "outputs": [],
   "source": [
    "# dims = [90,90]\n",
    "# num_obstacles = 50\n",
    "# obstacles = BaseGeometry()\n",
    "# for i in range(num_obstacles):\n",
    "#   coord = Point(*[random.random() * dim for dim in dims])\n",
    "#   size = random.randint(2,4)\n",
    "#   poly = coord.buffer(size, cap_style=CAP_STYLE.square)\n",
    "#   obstacles = obstacles.union(poly)\n",
    "# obstacles = obstacles.intersection(Polygon([[0,0], [0, dims[1]], [dims[0], dims[1]], [dims[0], 0], [0,0]]))\n",
    "# plot_polygons(obstacles.geoms)"
   ]
  },
  {
   "cell_type": "code",
   "execution_count": 4,
   "metadata": {},
   "outputs": [
    {
     "data": {
      "text/plain": [
       "(<Figure size 432x288 with 1 Axes>, <AxesSubplot:>)"
      ]
     },
     "execution_count": 4,
     "metadata": {},
     "output_type": "execute_result"
    },
    {
     "data": {
      "image/png": "[encoded data removed]",
      "text/plain": [
       "<Figure size 432x288 with 1 Axes>"
      ]
     },
     "metadata": {
      "needs_background": "light"
     },
     "output_type": "display_data"
    }
   ],
   "source": [
    "w = World()\n",
    "plot_world(w)"
   ]
  },
  {
   "cell_type": "code",
   "execution_count": 5,
   "metadata": {},
   "outputs": [],
   "source": [
    "# def make_observations(position: Point, radius: float) -> BaseGeometry:\n",
    "#   circle = position.buffer(radius)\n",
    "#   obstervation = obstacles.intersection(circle)\n",
    "#   if isinstance(obstervation, MultiPolygon):\n",
    "#     return obstervation\n",
    "#   elif isinstance(obstervation, Polygon):\n",
    "#     return MultiPolygon([obstervation])"
   ]
  },
  {
   "cell_type": "code",
   "execution_count": 6,
   "metadata": {},
   "outputs": [],
   "source": [
    "# obs = make_observations(position=Point(10,40), radius=10)\n",
    "# if (obs.is_empty):\n",
    "#   print(\"No obstacles detected\")\n",
    "# else:\n",
    "#   plot_polygons(obs.geoms, dims=dims)"
   ]
  },
  {
   "cell_type": "code",
   "execution_count": 9,
   "metadata": {},
   "outputs": [
    {
     "data": {
      "image/png": "[encoded data removed]",
      "text/plain": [
       "<Figure size 432x288 with 1 Axes>"
      ]
     },
     "metadata": {
      "needs_background": "light"
     },
     "output_type": "display_data"
    }
   ],
   "source": [
    "obs = w.make_observations(position=Point(20,40), radius=10)\n",
    "plot_polygons(obs, dims=w.dims)"
   ]
  },
  {
   "cell_type": "code",
   "execution_count": 10,
   "metadata": {},
   "outputs": [
    {
     "data": {
      "image/png": "[encoded data removed]",
      "text/plain": [
       "<Figure size 432x288 with 1 Axes>"
      ]
     },
     "metadata": {
      "needs_background": "light"
     },
     "output_type": "display_data"
    }
   ],
   "source": [
    "obs2 = w.make_observations(position=Point(60,40), radius=10)\n",
    "plot_polygons(obs2, dims=w.dims)"
   ]
  },
  {
   "cell_type": "code",
   "execution_count": null,
   "metadata": {},
   "outputs": [],
   "source": []
  }
 ],
 "metadata": {
  "interpreter": {
   "hash": "f95999c40ee23d284dbeb640bf317173aea1e7a6353db91b2613226ba019f410"
  },
  "kernelspec": {
   "display_name": "Python 3.10.4 ('farrt-bot')",
   "language": "python",
   "name": "python3"
  },
  "language_info": {
   "codemirror_mode": {
    "name": "ipython",
    "version": 3
   },
   "file_extension": ".py",
   "mimetype": "text/x-python",
   "name": "python",
   "nbconvert_exporter": "python",
   "pygments_lexer": "ipython3",
   "version": "3.10.4"
  },
  "orig_nbformat": 4
 },
 "nbformat": 4,
 "nbformat_minor": 2
}
